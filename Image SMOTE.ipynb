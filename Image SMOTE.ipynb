{
 "cells": [
  {
   "cell_type": "code",
   "execution_count": 28,
   "metadata": {},
   "outputs": [],
   "source": [
    "from PIL import Image\n",
    "import random\n",
    "import os\n",
    "import numpy as np\n",
    "import cv2\n",
    "from math import tan"
   ]
  },
  {
   "cell_type": "code",
   "execution_count": 29,
   "metadata": {},
   "outputs": [],
   "source": [
    "\n",
    "\n",
    "def skew_image(img, angle):\n",
    "    \"\"\"\n",
    "    Skew image using some math\n",
    "    :param img: PIL image object\n",
    "    :param angle: Angle in radians (function doesn't do well outside the range -1 -> 1, but still works)\n",
    "    :return: PIL image object\n",
    "    \"\"\"\n",
    "    width, height = img.size\n",
    "    # Get the width that is to be added to the image based on the angle of skew\n",
    "    xshift = tan(abs(angle)) * height\n",
    "    new_width = width + int(xshift)\n",
    "\n",
    "    if new_width < 0:\n",
    "        return img\n",
    "\n",
    "    # Apply transform\n",
    "    img = img.transform(\n",
    "        (new_width, height),\n",
    "        Image.AFFINE,\n",
    "        (1, angle, -xshift if angle > 0 else 0, 0, 1, 0),\n",
    "        Image.BICUBIC\n",
    "    )\n",
    "    \n",
    "    return img "
   ]
  },
  {
   "cell_type": "code",
   "execution_count": 30,
   "metadata": {},
   "outputs": [],
   "source": [
    "## Set number of samples to create\n",
    "numOfSamples = 10\n",
    "generateFlipped = False\n",
    "M = np.float32([[1, 0, 100], [0, 1, 1]]) \n",
    "\n",
    "directorystr = './Input/'\n",
    "directory = os.fsencode(directorystr)\n",
    "\n",
    "# Iterate over each file in Input Folder\n",
    "for file in os.listdir(directory):\n",
    "    fname = os.fsdecode(file)\n",
    "    im = Image.open(\"{}{}\".format(directorystr, fname))\n",
    "    \n",
    "    # Generate samples, using skew and rotations for training\n",
    "    for i in range(numOfSamples):\n",
    "        randSkew = random.uniform(-.02, .02)\n",
    "        randRot = random.uniform(-3, 3)\n",
    "        skimg = skew_image(im, randSkew)\n",
    "        transposed  = skimg.rotate(randRot)\n",
    "        #(rows, cols) = im.size[:2] \n",
    "        #transposed = cv2.warpAffine(im, M, (cols, rows)) \n",
    "        if(bool(random.getrandbits(1))):\n",
    "            transposed = transposed.rotate(180)\n",
    "        \n",
    "        transposed.save('./Output/{}_{}.png'.format(fname, i))"
   ]
  },
  {
   "cell_type": "code",
   "execution_count": null,
   "metadata": {},
   "outputs": [],
   "source": []
  }
 ],
 "metadata": {
  "kernelspec": {
   "display_name": "azure",
   "language": "python",
   "name": "azure"
  },
  "language_info": {
   "codemirror_mode": {
    "name": "ipython",
    "version": 3
   },
   "file_extension": ".py",
   "mimetype": "text/x-python",
   "name": "python",
   "nbconvert_exporter": "python",
   "pygments_lexer": "ipython3",
   "version": "3.7.3"
  }
 },
 "nbformat": 4,
 "nbformat_minor": 2
}
