{
 "cells": [
  {
   "cell_type": "markdown",
   "metadata": {},
   "source": [
    "This notebook can be used to automatically generate samples from valid images and add them to a custom vision model with training tags applied. To please go to <a href='https://www.customvision.ai/'>Custom Vision Portal</a> to retrieve keys and verify folders for input and output of samples."
   ]
  },
  {
   "cell_type": "code",
   "execution_count": 8,
   "metadata": {},
   "outputs": [],
   "source": [
    "from azure.cognitiveservices.vision.customvision.training import CustomVisionTrainingClient\n",
    "from azure.cognitiveservices.vision.customvision.training.models import ImageFileCreateEntry\n",
    "import os\n",
    "from PIL import Image\n",
    "from math import tan\n",
    "import numpy as np\n",
    "import random\n",
    "import cv2\n",
    "import math\n",
    "\n",
    "ENDPOINT = \"https://XXX.cognitiveservices.azure.com/\"\n",
    "\n",
    "# Replace with a valid keys\n",
    "training_key = \"XXX\"\n",
    "prediction_key = \"XXX\"\n",
    "prediction_resource_id = \"XXX\"\n",
    "projectid = 'XXX'\n",
    "numOfSamples = 10\n",
    "generateFlipped = True\n",
    "inputImgDir = './Input/'\n",
    "sampleImgDir = \"./Output/\"\n",
    "processedImgDir = \"./Processed/\"\n",
    "\n",
    "trainer = CustomVisionTrainingClient(training_key, endpoint=ENDPOINT)\n",
    "project = trainer.get_project(projectid)\n",
    "\n",
    "tags = trainer.get_tags(projectid)\n"
   ]
  },
  {
   "cell_type": "code",
   "execution_count": 5,
   "metadata": {
    "scrolled": true
   },
   "outputs": [
    {
     "data": {
      "text/plain": [
       "{'10c',\n",
       " '10d',\n",
       " '10h',\n",
       " '10s',\n",
       " '9c',\n",
       " '9d',\n",
       " '9h',\n",
       " '9s',\n",
       " 'Kc',\n",
       " 'Kh',\n",
       " 'Ks',\n",
       " 'Qc',\n",
       " 'Qd',\n",
       " 'Qh',\n",
       " 'Qs'}"
      ]
     },
     "execution_count": 5,
     "metadata": {},
     "output_type": "execute_result"
    }
   ],
   "source": [
    "from os import listdir\n",
    "from os.path import isfile, join\n",
    "path = './Input'\n",
    "charfiles = [f for f in listdir(path) if isfile(join(path, f))]\n",
    "charset = set()\n",
    "\n",
    "for char in charfiles:\n",
    "    #print(char.split('.')[0])\n",
    "    charset.add(char.split('.')[0])\n",
    "\n",
    "charset"
   ]
  },
  {
   "cell_type": "code",
   "execution_count": 6,
   "metadata": {},
   "outputs": [
    {
     "name": "stdout",
     "output_type": "stream",
     "text": [
      "10c\n",
      "9s\n",
      "10h\n",
      "10d\n",
      "9c\n",
      "9d\n",
      "10s\n",
      "Qs\n",
      "Qc\n",
      "Qd\n",
      "Kh\n",
      "Kc\n",
      "9h\n",
      "Qh\n",
      "Ks\n"
     ]
    }
   ],
   "source": [
    "for char in charset:\n",
    "    print(char)\n",
    "    trainer.create_tag(projectid, char)"
   ]
  },
  {
   "cell_type": "code",
   "execution_count": 9,
   "metadata": {},
   "outputs": [
    {
     "data": {
      "text/plain": [
       "{'9s': '7804fbad-9636-4e1d-889b-0fe9311b8336',\n",
       " '10c': 'e2472c08-12e6-4719-a44a-1a878119f8b6',\n",
       " 'Qc': '39d6f009-a1da-4765-a46f-2675b1c4be4f',\n",
       " '9c': '01c2ae69-9a19-4d8e-97e7-33ccc901a6d5',\n",
       " '9h': 'ebc5e01c-5213-477d-a856-412088f45757',\n",
       " '10s': '842db521-c42a-400d-8be1-4a0ee27e704f',\n",
       " 'Qh': '0278c0d9-25cb-4254-b431-64859e140d97',\n",
       " 'Ks': 'd2e2828d-43d4-4fb3-9d0b-9d3a38c702b9',\n",
       " '9d': '078774b0-ee0e-4e87-a950-9e07659e954e',\n",
       " 'Qd': 'ea442304-241e-4e09-83e9-9e75f8b8f239',\n",
       " '10d': '2756568a-60ba-47ef-9bcb-a19202d16919',\n",
       " 'Qs': 'aa5f985f-3fa5-4655-a526-b431dad29e14',\n",
       " '10h': 'be28551a-45d5-4bd2-96ff-c260a746c99f',\n",
       " 'Kh': 'c1ac82b5-dc03-4dfd-b8ca-cfadf8779ddb',\n",
       " 'Kc': '213cc0a4-8c3e-4508-b0ba-fe2d08357cb9'}"
      ]
     },
     "execution_count": 9,
     "metadata": {},
     "output_type": "execute_result"
    }
   ],
   "source": [
    "tags = trainer.get_tags(projectid)\n",
    "tagdict = {}\n",
    "for tag in tags:\n",
    "    tagdict[tag.name] = tag.id\n",
    "    \n",
    "tagdict"
   ]
  },
  {
   "cell_type": "code",
   "execution_count": 22,
   "metadata": {
    "scrolled": true
   },
   "outputs": [
    {
     "name": "stdout",
     "output_type": "stream",
     "text": [
      "Adding 15 images to training set...\n",
      "Image batch upload failed.\n",
      "Image status:  OKDuplicate\n",
      "Image status:  OKDuplicate\n",
      "Image status:  OKDuplicate\n",
      "Image status:  OKDuplicate\n",
      "Image status:  OKDuplicate\n",
      "Image status:  OKDuplicate\n",
      "Image status:  OKDuplicate\n",
      "Image status:  OKDuplicate\n",
      "Image status:  OKDuplicate\n",
      "Image status:  OKDuplicate\n",
      "Image status:  OKDuplicate\n",
      "Image status:  OKDuplicate\n",
      "Image status:  OKDuplicate\n",
      "Image status:  OKDuplicate\n",
      "Image status:  OKDuplicate\n"
     ]
    }
   ],
   "source": [
    "image_list = []\n",
    "\n",
    "directory = os.fsencode(sampleImgDir)\n",
    "batch = 0\n",
    "# Iterate over each file in Input Folder\n",
    "for file in os.listdir(directory):\n",
    "    fname = os.fsdecode(file)\n",
    "    with open(\"{}{}\".format(sampleImgDir,fname), \"rb\") as image_contents:\n",
    "        tagnm = fname.split('.')[0]\n",
    "        tagid = tagdict[tagnm]\n",
    "        #print(fname, tagid)\n",
    "        image_list.append(ImageFileCreateEntry(name=fname, contents=image_contents.read(), tag_ids=[tagid]))\n",
    "        batch = batch+1\n",
    "    if(batch >= 50) :\n",
    "        print(\"Adding {} images to training set...\".format(len(image_list)))\n",
    "        upload_result = trainer.create_images_from_files(project.id, images=image_list)\n",
    "        if not upload_result.is_batch_successful:\n",
    "            print(\"Image batch upload failed.\")\n",
    "            for image in upload_result.images:\n",
    "                print(\"Image status: \", image.status)\n",
    "            exit(-1)\n",
    "        else :\n",
    "            print(\"Image batch success!\")\n",
    "        image_list = []\n",
    "        batch=0\n",
    "\n",
    "if (len(image_list) > 0) :\n",
    "    print(\"Adding {} images to training set...\".format(len(image_list)))\n",
    "    upload_result = trainer.create_images_from_files(project.id, images=image_list)\n",
    "    if not upload_result.is_batch_successful:\n",
    "        print(\"Image batch upload failed.\")\n",
    "        for image in upload_result.images:\n",
    "            print(\"Image status: \", image.status)\n",
    "        exit(-1)\n",
    "    else :\n",
    "        print(\"Image batch success!\")\n",
    "\n",
    "\n"
   ]
  },
  {
   "cell_type": "code",
   "execution_count": null,
   "metadata": {},
   "outputs": [],
   "source": []
  }
 ],
 "metadata": {
  "kernelspec": {
   "display_name": "azure",
   "language": "python",
   "name": "azure"
  },
  "language_info": {
   "codemirror_mode": {
    "name": "ipython",
    "version": 3
   },
   "file_extension": ".py",
   "mimetype": "text/x-python",
   "name": "python",
   "nbconvert_exporter": "python",
   "pygments_lexer": "ipython3",
   "version": "3.7.3"
  }
 },
 "nbformat": 4,
 "nbformat_minor": 2
}
